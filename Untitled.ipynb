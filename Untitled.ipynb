{
 "cells": [
  {
   "cell_type": "code",
   "execution_count": 1,
   "metadata": {},
   "outputs": [],
   "source": [
    "import numpy as np \n",
    "from matplotlib import pyplot as plt\n"
   ]
  },
  {
   "cell_type": "code",
   "execution_count": 13,
   "metadata": {},
   "outputs": [],
   "source": [
    "numbers = np.random.poisson(lam=3, size=1000)"
   ]
  },
  {
   "cell_type": "code",
   "execution_count": 14,
   "metadata": {},
   "outputs": [
    {
     "data": {
      "image/png": "[encoded data removed]",
      "text/plain": [
       "<matplotlib.figure.Figure at 0x10d4bff28>"
      ]
     },
     "metadata": {},
     "output_type": "display_data"
    }
   ],
   "source": [
    "plt.hist(numbers+2)\n",
    "plt.show()"
   ]
  },
  {
   "cell_type": "code",
   "execution_count": 8,
   "metadata": {},
   "outputs": [
    {
     "data": {
      "text/plain": [
       "array([3, 2, 4, 1, 3, 3, 1, 2, 1, 1, 2, 2, 1, 3, 1, 2, 2, 2, 1, 2, 2, 2, 2,\n",
       "       2, 4, 1, 2, 2, 6, 4, 1, 1, 1, 3, 1, 2, 1, 1, 1, 1, 2, 3, 1, 1, 2, 1,\n",
       "       2, 1, 2, 2, 1, 3, 2, 1, 2, 1, 1, 3, 2, 2, 3, 1, 1, 2, 3, 3, 2, 1, 1,\n",
       "       1, 3, 2, 5, 3, 2, 5, 2, 2, 3, 1, 2, 1, 1, 1, 3, 2, 2, 3, 1, 3, 1, 1,\n",
       "       3, 1, 1, 3, 1, 1, 1, 1, 3, 3, 1, 1, 1, 4, 1, 2, 1, 2, 2, 1, 1, 3, 2,\n",
       "       2, 2, 2, 1, 2, 1, 1, 3, 4, 1, 1, 2, 1, 2, 2, 2, 3, 1, 2, 3, 3, 3, 2,\n",
       "       2, 2, 1, 4, 1, 2, 1, 2, 2, 1, 2, 2, 1, 3, 1, 1, 2, 1, 1, 2, 4, 2, 1,\n",
       "       3, 4, 3, 2, 2, 2, 2, 1, 1, 2, 1, 2, 4, 3, 2, 3, 2, 3, 2, 2, 4, 2, 3,\n",
       "       1, 1, 3, 3, 3, 1, 2, 1, 2, 2, 1, 1, 3, 1, 1, 3, 3, 2, 1, 1, 2, 1, 1,\n",
       "       1, 1, 1, 1, 2, 4, 1, 2, 1, 3, 1, 2, 5, 4, 1, 1, 3, 1, 1, 2, 2, 1, 1,\n",
       "       1, 1, 2, 2, 2, 2, 1, 2, 1, 1, 2, 4, 2, 2, 4, 2, 1, 2, 3, 1, 3, 3, 1,\n",
       "       2, 1, 1, 2, 2, 2, 2, 1, 3, 1, 3, 1, 2, 1, 2, 4, 1, 1, 2, 5, 3, 1, 2,\n",
       "       1, 1, 1, 2, 2, 3, 2, 3, 2, 1, 1, 2, 1, 2, 1, 1, 2, 2, 3, 3, 2, 1, 1,\n",
       "       2, 1, 4, 1, 1, 3, 1, 2, 2, 2, 2, 3, 6, 1, 1, 2, 3, 1, 1, 2, 4, 2, 2,\n",
       "       2, 1, 5, 2, 2, 1, 1, 2, 1, 2, 3, 1, 1, 1, 1, 2, 2, 1, 1, 3, 1, 2, 2,\n",
       "       3, 2, 2, 3, 3, 4, 1, 1, 1, 1, 1, 2, 1, 2, 3, 2, 3, 2, 1, 1, 5, 1, 4,\n",
       "       3, 2, 1, 1, 1, 1, 1, 3, 5, 1, 2, 1, 4, 1, 5, 1, 1, 2, 1, 3, 2, 3, 2,\n",
       "       2, 3, 1, 2, 1, 2, 2, 3, 2, 1, 3, 3, 2, 2, 2, 2, 1, 2, 4, 1, 2, 1, 3,\n",
       "       1, 4, 2, 3, 1, 2, 4, 1, 2, 3, 3, 1, 1, 2, 2, 1, 2, 4, 1, 2, 3, 2, 1,\n",
       "       2, 1, 2, 2, 2, 1, 1, 2, 1, 3, 1, 2, 3, 3, 1, 1, 1, 2, 1, 2, 1, 3, 1,\n",
       "       3, 2, 2, 3, 1, 1, 1, 3, 2, 1, 2, 1, 1, 2, 4, 1, 4, 4, 2, 1, 1, 4, 1,\n",
       "       4, 1, 4, 2, 1, 1, 3, 2, 2, 4, 1, 1, 1, 1, 1, 3, 5, 3, 1, 1, 2, 2, 2,\n",
       "       1, 1, 1, 1, 2, 2, 1, 2, 1, 2, 2, 3, 2, 2, 2, 1, 2, 1, 2, 4, 1, 1, 3,\n",
       "       1, 2, 2, 1, 3, 1, 1, 2, 1, 1, 1, 2, 2, 1, 1, 2, 2, 1, 1, 1, 1, 2, 1,\n",
       "       2, 1, 2, 2, 1, 1, 1, 1, 2, 2, 1, 1, 2, 1, 2, 1, 2, 3, 3, 2, 4, 2, 3,\n",
       "       4, 2, 2, 3, 1, 5, 3, 2, 1, 3, 2, 1, 2, 2, 2, 1, 4, 2, 1, 1, 1, 2, 3,\n",
       "       2, 1, 1, 1, 1, 2, 2, 2, 1, 4, 3, 1, 2, 2, 2, 4, 2, 2, 2, 1, 1, 3, 1,\n",
       "       4, 4, 1, 1, 4, 2, 2, 1, 2, 2, 3, 1, 2, 1, 2, 4, 1, 3, 3, 1, 2, 2, 2,\n",
       "       3, 1, 2, 1, 3, 1, 1, 3, 1, 1, 2, 2, 1, 2, 3, 3, 3, 2, 2, 1, 1, 3, 1,\n",
       "       5, 1, 1, 1, 2, 1, 2, 4, 2, 2, 2, 2, 3, 1, 1, 3, 4, 1, 1, 2, 1, 2, 1,\n",
       "       1, 3, 4, 2, 1, 2, 3, 2, 2, 1, 1, 3, 2, 2, 1, 2, 3, 1, 3, 1, 2, 1, 3,\n",
       "       3, 1, 1, 2, 2, 2, 1, 1, 4, 3, 1, 2, 2, 2, 2, 2, 3, 2, 2, 2, 2, 1, 1,\n",
       "       1, 2, 4, 1, 3, 1, 3, 2, 2, 2, 2, 2, 3, 3, 2, 2, 4, 2, 4, 3, 4, 1, 1,\n",
       "       3, 2, 1, 2, 2, 2, 3, 3, 2, 3, 5, 1, 4, 2, 3, 2, 1, 2, 2, 1, 2, 2, 1,\n",
       "       1, 1, 2, 1, 4, 3, 3, 1, 1, 3, 3, 2, 1, 1, 3, 1, 1, 2, 1, 2, 2, 2, 3,\n",
       "       3, 3, 2, 1, 2, 2, 3, 3, 3, 1, 4, 1, 2, 2, 2, 2, 2, 2, 1, 2, 4, 2, 3,\n",
       "       4, 1, 2, 1, 2, 3, 3, 3, 1, 4, 4, 4, 3, 2, 1, 1, 3, 2, 2, 3, 1, 2, 3,\n",
       "       2, 2, 1, 1, 2, 2, 3, 4, 1, 2, 2, 2, 1, 1, 1, 2, 1, 2, 2, 2, 2, 1, 1,\n",
       "       1, 2, 2, 1, 3, 2, 1, 4, 1, 2, 1, 1, 1, 2, 2, 2, 3, 1, 1, 2, 3, 5, 2,\n",
       "       2, 6, 1, 2, 2, 3, 1, 3, 2, 1, 1, 3, 4, 1, 2, 1, 2, 2, 2, 3, 4, 1, 2,\n",
       "       2, 6, 1, 1, 3, 3, 1, 1, 3, 1, 1, 2, 4, 1, 2, 1, 1, 2, 1, 2, 3, 1, 2,\n",
       "       3, 3, 2, 1, 3, 1, 2, 2, 1, 2, 1, 2, 1, 1, 3, 1, 1, 1, 2, 1, 2, 1, 1,\n",
       "       1, 1, 1, 1, 1, 1, 3, 2, 2, 2, 4, 3, 2, 1, 2, 2, 3, 3, 1, 7, 2, 2, 2,\n",
       "       3, 4, 1, 5, 1, 2, 2, 1, 1, 2, 1])"
      ]
     },
     "execution_count": 8,
     "metadata": {},
     "output_type": "execute_result"
    }
   ],
   "source": [
    "numbers+1"
   ]
  },
  {
   "cell_type": "code",
   "execution_count": 15,
   "metadata": {},
   "outputs": [
    {
     "name": "stdout",
     "output_type": "stream",
     "text": [
      "Loading....\r"
     ]
    }
   ],
   "source": [
    "import time\n",
    "for x in range (0,5):  \n",
    "    b = \"Loading\" + \".\" * x\n",
    "    print (b, end=\"\\r\")\n",
    "    time.sleep(1)"
   ]
  },
  {
   "cell_type": "code",
   "execution_count": null,
   "metadata": {},
   "outputs": [],
   "source": []
  }
 ],
 "metadata": {
  "kernelspec": {
   "display_name": "Python 3",
   "language": "python",
   "name": "python3"
  },
  "language_info": {
   "codemirror_mode": {
    "name": "ipython",
    "version": 3
   },
   "file_extension": ".py",
   "mimetype": "text/x-python",
   "name": "python",
   "nbconvert_exporter": "python",
   "pygments_lexer": "ipython3",
   "version": "3.6.1"
  }
 },
 "nbformat": 4,
 "nbformat_minor": 2
}
